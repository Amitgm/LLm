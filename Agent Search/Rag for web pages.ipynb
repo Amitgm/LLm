{
 "cells": [
  {
   "cell_type": "code",
   "execution_count": 1,
   "metadata": {},
   "outputs": [
    {
     "name": "stderr",
     "output_type": "stream",
     "text": [
      "USER_AGENT environment variable not set, consider setting it to identify your requests.\n",
      "2024-06-25 11:14:38.643 WARNING streamlit.runtime.state.session_state_proxy: Session state does not function when running a script without `streamlit run`\n"
     ]
    },
    {
     "name": "stdout",
     "output_type": "stream",
     "text": [
      "enterd here\n"
     ]
    }
   ],
   "source": [
    "import streamlit as st\n",
    "import os\n",
    "from langchain_groq import ChatGroq\n",
    "from langchain_community.document_loaders import WebBaseLoader\n",
    "from langchain_community.embeddings import OllamaEmbeddings\n",
    "import time\n",
    "\n",
    "from langchain.text_splitter import RecursiveCharacterTextSplitter\n",
    "\n",
    "from langchain.chains.combine_documents import create_stuff_documents_chain\n",
    "\n",
    "from langchain_core.prompts import ChatPromptTemplate\n",
    "from langchain.chains import create_retrieval_chain\n",
    "from langchain_community.vectorstores import FAISS\n",
    "\n",
    "from dotenv import load_dotenv\n",
    "\n",
    "load_dotenv()\n",
    "\n",
    "groq_api_key = os.environ[\"GROQ_API_KEY\"]\n",
    "\n",
    "if \"vectors\" not in st.session_state:\n",
    "\n",
    "    print(\"enterd here\")\n",
    "\n",
    "    st.session_state.embedding = OllamaEmbeddings()\n",
    "    st.session_state.loaders = WebBaseLoader(\"https://python.langchain.com/v0.2/docs/introduction/\")\n",
    "\n",
    "    st.session_state.docs = st.session_state.loaders.load()\n",
    "\n",
    "    st.session_state.doc_chunker  = RecursiveCharacterTextSplitter(chunk_size=1000,chunk_overlap=200)\n",
    "\n",
    "    st.session_state.final_documents = st.session_state.doc_chunker.split_documents(st.session_state.docs[:5])\n",
    "\n",
    "    st.session_state.vectors = FAISS.from_documents(st.session_state.final_documents,st.session_state.embedding)\n",
    "\n",
    "st.title(\"chat groq demo\")\n",
    "\n",
    "\n",
    "print(\"exited here\")\n",
    "\n",
    "llm = ChatGroq(grok_api_key=groq_api_key,model_name=\"gemma-7b-it\")\n",
    "\n",
    "\n",
    "prompt = ChatPromptTemplate.from_template(\n",
    "    \n",
    "\"\"\" \n",
    "Answer the question based on the context.\n",
    "Please provide most accurate response.\n",
    "<context>\n",
    "{context}\n",
    "<context>\n",
    "Question:{input}\n",
    "                                          \n",
    "\"\"\")\n",
    "\n",
    "retriever = st.session_state.vectors.as_retriever()\n",
    "document_chain = create_stuff_documents_chain(llm,prompt)\n",
    "\n",
    "retrival_chain = create_retrieval_chain(retriever,document_chain)\n",
    "\n",
    "prompt = st.text_input(\"Input your prompt here\")\n",
    "\n",
    "if prompt:\n",
    "    start = time.process_time()\n",
    "    response = retrival_chain.invoke({\"input\":prompt})\n",
    "    print(\"the process time\",time.process_time()-start)\n",
    "\n",
    "    st.write(response[\"answer\"])\n",
    "\n",
    "    # with a streamlit expander\n",
    "\n",
    "    for i,doc in enumerate(response[\"context\"]):\n",
    "\n",
    "        st.write(doc.page_content)\n",
    "\n",
    "        st.write(\"----------------------------------\")\n",
    "\n",
    "\n",
    "\n",
    "\n",
    "\n",
    "\n",
    "\n",
    "\n"
   ]
  }
 ],
 "metadata": {
  "kernelspec": {
   "display_name": "lang-chain",
   "language": "python",
   "name": "python3"
  },
  "language_info": {
   "codemirror_mode": {
    "name": "ipython",
    "version": 3
   },
   "file_extension": ".py",
   "mimetype": "text/x-python",
   "name": "python",
   "nbconvert_exporter": "python",
   "pygments_lexer": "ipython3",
   "version": "3.9.5"
  }
 },
 "nbformat": 4,
 "nbformat_minor": 2
}
